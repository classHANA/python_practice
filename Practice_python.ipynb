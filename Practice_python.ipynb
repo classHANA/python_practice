{
 "cells": [
  {
   "cell_type": "code",
   "execution_count": 51,
   "metadata": {},
   "outputs": [
    {
     "name": "stdout",
     "output_type": "stream",
     "text": [
      "123\n"
     ]
    }
   ],
   "source": [
    "print (\"123\")"
   ]
  },
  {
   "cell_type": "code",
   "execution_count": 52,
   "metadata": {},
   "outputs": [
    {
     "name": "stdout",
     "output_type": "stream",
     "text": [
      "AA3\n"
     ]
    }
   ],
   "source": [
    "head = \"AA\"\n",
    "tail = \"3\"\n",
    "print(head+tail)"
   ]
  },
  {
   "cell_type": "code",
   "execution_count": 53,
   "metadata": {},
   "outputs": [
    {
     "name": "stdout",
     "output_type": "stream",
     "text": [
      "==============================\n",
      "어쩌고저쩌고\n",
      "==============================\n"
     ]
    }
   ],
   "source": [
    "print (\"=\"*30)\n",
    "print (\"어쩌고저쩌고\")\n",
    "print (\"=\"*30)"
   ]
  },
  {
   "cell_type": "code",
   "execution_count": 54,
   "metadata": {},
   "outputs": [
    {
     "name": "stdout",
     "output_type": "stream",
     "text": [
      "n\n",
      "M\n",
      "My n\n",
      "Min\n",
      "Min\n",
      "My name is Min\n",
      "12\n"
     ]
    }
   ],
   "source": [
    "#슬라이싱, 인덱싱\n",
    "a=\"My name is Min\"\n",
    "print (a[3])\n",
    "print (a[-3])\n",
    "print (a[0:4])\n",
    "\n",
    "a = \"My name is Min\"\n",
    "print (a[11:])\n",
    "print (a[-3:])\n",
    "print (a[:])\n",
    "\n",
    "a = \"20171226Rainy\"\n",
    "year = a[0:4]\n",
    "mon = a[4:6]\n",
    "print (mon)"
   ]
  },
  {
   "cell_type": "code",
   "execution_count": 55,
   "metadata": {},
   "outputs": [
    {
     "name": "stdout",
     "output_type": "stream",
     "text": [
      "불라 Apple 불라\n",
      "불라 10000000 불라\n",
      "불라 Apple 100 불라 \n",
      "95%\n",
      "        hi\n",
      "hello      hi\n",
      "3.1452\n",
      "    3.1452\n"
     ]
    }
   ],
   "source": [
    "s = \"Apple\"\n",
    "print (\"불라 %s 불라\" % s)\n",
    "num = 100\n",
    "print (\"불라 %i 불라\" % 10000000)\n",
    "print (\"불라 %s %i 불라 \" % (s, num))\n",
    "print (\"%d%%\" % 95)\n",
    "print (\"%10s\" % \"hi\")\n",
    "print (\"%-10s hi\" % \"hello\")\n",
    "print (\"%0.4f\" % 3.14515948546)\n",
    "print (\"%10.4f\" % 3.14515948546)"
   ]
  },
  {
   "cell_type": "code",
   "execution_count": 56,
   "metadata": {},
   "outputs": [
    {
     "data": {
      "text/plain": [
       "2"
      ]
     },
     "execution_count": 56,
     "metadata": {},
     "output_type": "execute_result"
    }
   ],
   "source": [
    "s = \"hello\"\n",
    "s.count(\"l\")"
   ]
  },
  {
   "cell_type": "code",
   "execution_count": 57,
   "metadata": {},
   "outputs": [
    {
     "data": {
      "text/plain": [
       "1"
      ]
     },
     "execution_count": 57,
     "metadata": {},
     "output_type": "execute_result"
    }
   ],
   "source": [
    "s = \"hello\"\n",
    "# s.find(\"e\")\n",
    "# s.find(\"o\")\n",
    "s.index(\"e\")"
   ]
  },
  {
   "cell_type": "code",
   "execution_count": 58,
   "metadata": {},
   "outputs": [
    {
     "data": {
      "text/plain": [
       "'a,b,c,d,e'"
      ]
     },
     "execution_count": 58,
     "metadata": {},
     "output_type": "execute_result"
    }
   ],
   "source": [
    "# 빈출\n",
    "a = \",\"\n",
    "a.join(\"abcde\")"
   ]
  },
  {
   "cell_type": "code",
   "execution_count": 59,
   "metadata": {},
   "outputs": [
    {
     "data": {
      "text/plain": [
       "'HI'"
      ]
     },
     "execution_count": 59,
     "metadata": {},
     "output_type": "execute_result"
    }
   ],
   "source": [
    "a = \"hi\"\n",
    "a.upper()"
   ]
  },
  {
   "cell_type": "code",
   "execution_count": 60,
   "metadata": {},
   "outputs": [
    {
     "data": {
      "text/plain": [
       "'hi'"
      ]
     },
     "execution_count": 60,
     "metadata": {},
     "output_type": "execute_result"
    }
   ],
   "source": [
    "a = \"HI\"\n",
    "a.lower()"
   ]
  },
  {
   "cell_type": "code",
   "execution_count": 61,
   "metadata": {},
   "outputs": [
    {
     "name": "stdout",
     "output_type": "stream",
     "text": [
      "hi\n",
      "hi\n"
     ]
    }
   ],
   "source": [
    "a = \"  hi  \"\n",
    "print(a.lstrip().rstrip())\n",
    "print(a.strip())"
   ]
  },
  {
   "cell_type": "code",
   "execution_count": 62,
   "metadata": {},
   "outputs": [
    {
     "name": "stdout",
     "output_type": "stream",
     "text": [
      "['apple', 'grape']\n",
      "['2017', '12', '21', 'Rainy']\n"
     ]
    }
   ],
   "source": [
    "a = \"apple grape\"\n",
    "# print(a.replace(\"apple\",\"melon\"))\n",
    "print (a.split())\n",
    "b = \"2017:12:21:Rainy\"\n",
    "print (b.split(\":\"))"
   ]
  },
  {
   "cell_type": "code",
   "execution_count": 63,
   "metadata": {},
   "outputs": [
    {
     "name": "stdout",
     "output_type": "stream",
     "text": [
      "apple grape\n",
      "176\n"
     ]
    }
   ],
   "source": [
    "print (a)\n",
    "print (len(a)*len(b))"
   ]
  },
  {
   "cell_type": "code",
   "execution_count": 64,
   "metadata": {
    "scrolled": true
   },
   "outputs": [
    {
     "name": "stdout",
     "output_type": "stream",
     "text": [
      "불라불라 336 불라\n",
      "불라불라 336 불라\n"
     ]
    }
   ],
   "source": [
    "#pithon -> python\n",
    "\"pithon\".replace(\"i\",\"y\")\n",
    "type(\"pithon\")\n",
    "type(4.0)\n",
    "\n",
    "3**4\n",
    "7%3\n",
    "7//3\n",
    "\n",
    "print (\"불라불라\", 48*7 ,\"불라\")\n",
    "print (\"불라불라 %d 불라\" % (48*7))"
   ]
  },
  {
   "cell_type": "code",
   "execution_count": 65,
   "metadata": {
    "scrolled": true
   },
   "outputs": [
    {
     "name": "stdout",
     "output_type": "stream",
     "text": [
      "[1, 2, 3]\n",
      "2\n",
      "3\n",
      "[3, 4]\n",
      "4\n"
     ]
    }
   ],
   "source": [
    "a = [1,2,3]\n",
    "print (a)\n",
    "print (a[1])\n",
    "print (a[-1])\n",
    "\n",
    "a = [1,2,[3,4]]\n",
    "print (a[-1])\n",
    "print (a[-1][-1])"
   ]
  },
  {
   "cell_type": "code",
   "execution_count": 66,
   "metadata": {},
   "outputs": [
    {
     "name": "stdout",
     "output_type": "stream",
     "text": [
      "grape\n"
     ]
    },
    {
     "data": {
      "text/plain": [
       "['spring', ['summer', ['apple', 'grape', 'melon'], 'fall']]"
      ]
     },
     "execution_count": 66,
     "metadata": {},
     "output_type": "execute_result"
    }
   ],
   "source": [
    "season = ['spring',['summer',['apple','grape','melon'],'fall'],'winter']\n",
    "print (season[1][1][1])\n",
    "# rank, shape, axis\n",
    "# rank : 배열 몇 단? / shape [2,2][3,1] / axis\n",
    "season[:]\n",
    "season[1:]\n",
    "season[:-1]"
   ]
  },
  {
   "cell_type": "code",
   "execution_count": 67,
   "metadata": {},
   "outputs": [
    {
     "name": "stdout",
     "output_type": "stream",
     "text": [
      "[1, 2, 3, 4, 5, 8, 10, 11, 12, 13]\n",
      "[1, 2, 3, 4, 5, 8, 1, 2, 3, 4, 5, 8, 1, 2, 3, 4, 5, 8]\n",
      "응 있어\n",
      "[1, 99, 3, 4, 5, 8]\n",
      "[1, 66, 55, 44, 33, 22, 3, 4, 5, 8]\n",
      "[1, 55, 44, 33, 22, 3, 4, 5, 8]\n",
      "[1, 44, 33, 22, 3, 4, 5, 8]\n",
      "[1, [66, 55, 44, 33, 22], 33, 22, 3, 4, 5, 8]\n",
      "[1, 66, 55, 44, 33, 22, 33, 22, 3, 4, 5, 8]\n"
     ]
    }
   ],
   "source": [
    "a = [1,2,3,4,5,8]\n",
    "b = [10,11,12,13]\n",
    "print (a+b)\n",
    "print (a*3)\n",
    "if 4 in a:\n",
    "    print (\"응 있어\")\n",
    "\n",
    "a[1]=99\n",
    "print (a)\n",
    "\n",
    "a[1:2] = [66,55,44,33,22]\n",
    "print (a)\n",
    "\n",
    "a[1:2] = []\n",
    "print (a)\n",
    "\n",
    "del a[1]\n",
    "print (a)\n",
    "\n",
    "a[1] = [66,55,44,33,22]\n",
    "print (a)\n",
    "a[1:2] = [66,55,44,33,22]\n",
    "print (a)"
   ]
  },
  {
   "cell_type": "code",
   "execution_count": 73,
   "metadata": {
    "scrolled": true
   },
   "outputs": [
    {
     "name": "stdout",
     "output_type": "stream",
     "text": [
      "[1, 3, 4, 4, 5, 8, 22, 22, 33, 33, 44, 55, 66, 77, 77, 77, 77, 77, 77]\n",
      "[77, 77, 77, 77, 77, 77, 66, 55, 44, 33, 33, 22, 22, 8, 5, 4, 4, 3, 1]\n",
      "8\n",
      "[4, 77, 77, 77, 77, 77, 77, 66, 55, 44, 33, 33, 22, 22, 8, 5, 4, 4, 3, 1]\n",
      "[4, 77, 77, 77, 77, 77, 77, 66, 55, 44, 33, 33, 22, 22, 8, 5, 4, 4, 1]\n"
     ]
    }
   ],
   "source": [
    "a.append(77)\n",
    "a.sort()\n",
    "print (a)\n",
    "a.reverse()\n",
    "print(a)\n",
    "print(a.index(44))\n",
    "a.insert(0,4)\n",
    "print(a)\n",
    "a.remove(3)\n",
    "print(a)"
   ]
  },
  {
   "cell_type": "code",
   "execution_count": 86,
   "metadata": {},
   "outputs": [
    {
     "name": "stdout",
     "output_type": "stream",
     "text": [
      "9999\n",
      "[4, 77, 77, 77, 77, 77, 77, 66, 55, 44, 33, 33, 22, 22, 999, 999, 999, 999, 999, 999, 999, 999]\n",
      "6\n",
      "[4, 77, 77, 77, 77, 77, 77, 66, 55, 44, 33, 33, 22, 22, 999, 999, 999, 999, 999, 999, 999, 999, 999, 9999]\n",
      "('H', 'e', 'l', 'l', 'o')\n",
      "('a', 'b', 'c')\n",
      "('H', 'e', 'l', 'l', 'o', 'a', 'b', 'c', 'H', 'e', 'l', 'l', 'o', 'a', 'b', 'c')\n"
     ]
    }
   ],
   "source": [
    "print(a.pop())\n",
    "print(a)\n",
    "print(a.count(77))\n",
    "b = [999,9999]\n",
    "a.extend(b)\n",
    "print (a)\n",
    "# Array 관련 함수들\n",
    "[1,2,3,4]\n",
    "# Tuple 관련 함수들\n",
    "c = (1,2,4,5)\n",
    "\n",
    "s = \"Hello\"\n",
    "l = ['a','b','c']\n",
    "\n",
    "t = tuple(s)\n",
    "print(t)\n",
    "\n",
    "tl= tuple(l)\n",
    "print(tl)\n",
    "\n",
    "print ((t+tl)*2)"
   ]
  },
  {
   "cell_type": "code",
   "execution_count": 24,
   "metadata": {
    "scrolled": true
   },
   "outputs": [
    {
     "name": "stdout",
     "output_type": "stream",
     "text": [
      "True\n"
     ]
    }
   ],
   "source": [
    "dic = {'key1':[1,2,3,4],'key2':'value2','key3':'value3'}\n",
    "# dic['key4']='value4' #추가\n",
    "# dic['key5']='value5' #추가\n",
    "# del dic['key2'] #삭제\n",
    "# print(dic)\n",
    "# print(dic['key1'][:-1])\n",
    "# print(dic.keys())\n",
    "# for i in dic.keys(): # 전체 키 가져오기\n",
    "#     print (i)\n",
    "# for i in dic.values(): # 전체 값 가져오기\n",
    "#     print (i)\n",
    "# print(dic.items())\n",
    "# dic.clear() # 딕셔너리 초기화\n",
    "# print (dic)\n",
    "\n",
    "kk = {'k1':'v1'}\n",
    "kk.get('k2','없습니다.')\n",
    "# kk['k2']\n",
    "print ('k2' in kk)\n",
    "print ('k2' not in kk)"
   ]
  },
  {
   "cell_type": "code",
   "execution_count": 26,
   "metadata": {},
   "outputs": [
    {
     "name": "stdout",
     "output_type": "stream",
     "text": [
      "총합 : 9000 \n"
     ]
    }
   ],
   "source": [
    "a = {'커피':1000,'빵':2000,'고구마':2500,'김':3000}\n",
    "\n",
    "a['오징어']=3000\n",
    "print (\"총합 : %d \" % ((2*a.get('오징어'))+(1* a.get('김'))))\n",
    "#새로운 메뉴 오징어가 3천원에 추가되고\n",
    "#고객이 오징어 2개랑 김 1개를 주문했어요\n",
    "#고객이 지불할 전체 가격 총합을 알려주는거에요."
   ]
  },
  {
   "cell_type": "code",
   "execution_count": 39,
   "metadata": {},
   "outputs": [
    {
     "name": "stdout",
     "output_type": "stream",
     "text": [
      "{1, 3, 5, 6, 9}\n",
      "{1, 3, 5, 6, 8, 19}\n",
      "{1, 3, 5, 6}\n",
      "{1, 3, 5, 6}\n",
      "4\n",
      "{1, 3, 5, 6, 8, 9, 19}\n",
      "{1, 3, 5, 6, 8, 9, 19}\n",
      "7\n",
      "{9}\n",
      "{8, 19}\n",
      "{9}\n",
      "{1, 66, 3, 99, 5, 6, 9, 88}\n"
     ]
    }
   ],
   "source": [
    "# Set 집합 - 중복x, 순서x(인덱싱, 슬라이싱 x)\n",
    "list = [1,1,1,5,9,6,3]\n",
    "a = set(list)\n",
    "print (a)\n",
    "\n",
    "list2 = [1,6,8,5,19,6,3]\n",
    "b = set(list2)\n",
    "print (b)\n",
    "\n",
    "print (a&b) #교집합\n",
    "print (a.intersection(b))\n",
    "print (len(a&b))\n",
    "\n",
    "print (a|b) #합집합\n",
    "print (a.union(b))\n",
    "print (len(a|b))\n",
    "\n",
    "print (a-b) #차집합\n",
    "print (b-a)\n",
    "print (a.difference(b))\n",
    "\n",
    "a.add(99) #set 추가\n",
    "a.update([66,77,88])#set 업데이트\n",
    "a.remove(77)#set 삭제\n",
    "print (a)"
   ]
  },
  {
   "cell_type": "code",
   "execution_count": 54,
   "metadata": {},
   "outputs": [
    {
     "name": "stdout",
     "output_type": "stream",
     "text": [
      "A\n",
      "4\n",
      "3\n",
      "2\n",
      "1\n",
      "3 3 4 4 5 5\n",
      "[1, 5, 3]\n",
      "[1, 2, 3]\n",
      "4\n"
     ]
    }
   ],
   "source": [
    "# True or False\n",
    "if [1]:\n",
    "    print (\"A\")\n",
    "else:\n",
    "    print (\"B\")\n",
    "    \n",
    "a = [1,2,3,4]\n",
    "while a:\n",
    "    print (a.pop())\n",
    "\n",
    "# 변수에 값 할당\n",
    "a,b = (3,3)\n",
    "c,d = [4,4]\n",
    "e=f=5\n",
    "print (a,b,c,d,e,f)\n",
    "\n",
    "a = [1,2,3]\n",
    "b = a    #같은 배열 쳐다보고 있음\n",
    "c = a[:] #다른 배열 쳐다보고 있음\n",
    "a[1]=5\n",
    "print (b)\n",
    "print (c)\n",
    "print (d)"
   ]
  },
  {
   "cell_type": "code",
   "execution_count": 68,
   "metadata": {},
   "outputs": [
    {
     "name": "stdout",
     "output_type": "stream",
     "text": [
      "이름을 입력해주세요.민\n",
      "입력된 이름은 민 입니다 \n"
     ]
    }
   ],
   "source": [
    "# : , Tab 꼭 하셔야되요\n",
    "if 1 in [1,2,3,4] :\n",
    "    pass # 아무것도 안함\n",
    "else:\n",
    "    print (\"B\")\n",
    "\n",
    "# 입력 받기\n",
    "a = input(\"이름을 입력해주세요.\")\n",
    "print (\"입력된 이름은 %s 입니다 \" % a)"
   ]
  },
  {
   "cell_type": "code",
   "execution_count": null,
   "metadata": {},
   "outputs": [],
   "source": [
    "# 1. 사용자 나이를 입력받아서 나이가 30 이상이면\n",
    "# 'adult' 미만이면 'child'를 출력하시오.\n",
    "\n",
    "age = int(input(\"나이를 입력해주세요.\"))\n",
    "\n",
    "if age > 30:\n",
    "    print (\"adult\")\n",
    "else:\n",
    "    print (\"child\")"
   ]
  },
  {
   "cell_type": "code",
   "execution_count": null,
   "metadata": {},
   "outputs": [],
   "source": [
    "## 2. 연필 : 1000원, 펜 : 2000원\n",
    "## 만원이상 구입시 10% 할인해줌\n",
    "## 구매하고자하는 연필 수, 펜 수 입력 받아서 최종 금액 출력\n",
    "pencil = 1000\n",
    "pen = 2000\n",
    "num_pencil = int(input(\"연필 몇개 살래?\"))\n",
    "num_pen = int(input(\"펜 몇개 살래?\"))\n",
    "total = pencil*num_pencil + pen*num_pen\n",
    "\n",
    "if total > 10000:\n",
    "    print (\"지불할 금액은 %d 입니다\" % (total*0.9))\n",
    "else:\n",
    "    print (\"지불할 금액은 %d 입니다\" % (total))\n",
    "\n",
    "## 3. 성적이 90점 이상이면 A, 80점 이상이면 B, 70점 이상이면 C, \n",
    "##    나머지는 F \n",
    "## - 성적을 입력 받아 학점을 알려주시오.\n",
    "## - 입력값은 \"이름|성적\" 으로 입력 받음 ex. \"민종현|89\" 출력: B"
   ]
  },
  {
   "cell_type": "code",
   "execution_count": null,
   "metadata": {},
   "outputs": [],
   "source": []
  }
 ],
 "metadata": {
  "kernelspec": {
   "display_name": "Python 3",
   "language": "python",
   "name": "python3"
  },
  "language_info": {
   "codemirror_mode": {
    "name": "ipython",
    "version": 3
   },
   "file_extension": ".py",
   "mimetype": "text/x-python",
   "name": "python",
   "nbconvert_exporter": "python",
   "pygments_lexer": "ipython3",
   "version": "3.6.3"
  }
 },
 "nbformat": 4,
 "nbformat_minor": 2
}
